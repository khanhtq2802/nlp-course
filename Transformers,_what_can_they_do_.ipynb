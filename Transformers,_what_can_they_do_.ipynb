{
  "cells": [
    {
      "cell_type": "markdown",
      "metadata": {
        "id": "ybpe9xlem937"
      },
      "source": [
        "# Transformers, what can they do?"
      ]
    },
    {
      "cell_type": "markdown",
      "metadata": {
        "id": "tVvNKJ_Lm93-"
      },
      "source": [
        "Install the Transformers, Datasets, and Evaluate libraries to run this notebook."
      ]
    },
    {
      "cell_type": "code",
      "execution_count": null,
      "metadata": {
        "id": "oM7jm4ZKm93-"
      },
      "outputs": [],
      "source": [
        "!pip install datasets evaluate transformers[sentencepiece]"
      ]
    },
    {
      "cell_type": "code",
      "execution_count": null,
      "metadata": {},
      "outputs": [],
      "source": [
        "import torch\n",
        "\n",
        "# Check if GPU is available\n",
        "if torch.cuda.is_available():\n",
        "    device = torch.device(\"cuda\")\n",
        "    print(\"PyTorch is using GPU\")\n",
        "else:\n",
        "    device = torch.device(\"cpu\")\n",
        "    print(\"PyTorch is using CPU\")"
      ]
    },
    {
      "cell_type": "code",
      "execution_count": null,
      "metadata": {},
      "outputs": [],
      "source": [
        "import tensorflow as tf\n",
        "\n",
        "# List physical GPUs\n",
        "physical_devices = tf.config.list_physical_devices('GPU')\n",
        "\n",
        "if physical_devices:\n",
        "    print(\"TensorFlow is using GPU\")\n",
        "else:\n",
        "    print(\"TensorFlow is using CPU\")"
      ]
    },
    {
      "cell_type": "code",
      "execution_count": null,
      "metadata": {},
      "outputs": [],
      "source": [
        "import tensorflow as tf\n",
        "\n",
        "# Explicitly set the GPU device\n",
        "physical_devices = tf.config.list_physical_devices('GPU')\n",
        "if physical_devices:\n",
        "    tf.config.experimental.set_visible_devices(physical_devices[0], 'GPU')\n",
        "\n",
        "# Now TensorFlow will use GPU if available"
      ]
    },
    {
      "cell_type": "code",
      "execution_count": null,
      "metadata": {},
      "outputs": [],
      "source": [
        "import torch\n",
        "from transformers import pipeline\n",
        "\n",
        "# Check if GPU is available\n",
        "if torch.cuda.is_available():\n",
        "    # Load the pipeline specifying GPU\n",
        "    nlp_pipeline = pipeline(\"sentiment-analysis\", device=0)  # 0 is the index of GPU\n",
        "    print(\"Pipeline is using GPU\")\n",
        "else:\n",
        "    # Load the pipeline with default CPU\n",
        "    nlp_pipeline = pipeline(\"sentiment-analysis\")\n",
        "    print(\"Pipeline is using CPU\")\n",
        "\n",
        "# Example usage\n",
        "result = nlp_pipeline(\"I love using Hugging Face Transformers!\")\n",
        "print(result)"
      ]
    },
    {
      "cell_type": "code",
      "execution_count": null,
      "metadata": {
        "id": "pgtmfOuZm93_",
        "outputId": "04dcfbed-ffff-4c44-ff32-c75b47f3b583"
      },
      "outputs": [],
      "source": [
        "from transformers import pipeline\n",
        "# distilbert/distilbert-base-uncased-finetuned-sst-2-english\n",
        "classifier = pipeline(\"sentiment-analysis\", device=0)\n",
        "classifier(\"I've been waiting for a HuggingFace course my whole life.\")"
      ]
    },
    {
      "cell_type": "code",
      "execution_count": null,
      "metadata": {
        "id": "7IYY6V8zm94A",
        "outputId": "514e4951-dbe1-40d2-c5d6-dbd237c4f728"
      },
      "outputs": [],
      "source": [
        "classifier(\n",
        "    [\"I've been waiting for a HuggingFace course my whole life.\", \"I hate this so much!\"]\n",
        ")"
      ]
    },
    {
      "cell_type": "code",
      "execution_count": null,
      "metadata": {},
      "outputs": [],
      "source": [
        "classifier(\n",
        "    ['''It just needs a lot of attention for maintenance. However, you should not expect much from the communists''']\n",
        ")"
      ]
    },
    {
      "cell_type": "code",
      "execution_count": null,
      "metadata": {
        "id": "37H4ruyPm94A",
        "outputId": "8bd1e668-492f-4b82-db3f-ed916a6b8210"
      },
      "outputs": [],
      "source": [
        "from transformers import pipeline\n",
        "# FacebookAI/roberta-large-mnli\n",
        "classifier = pipeline(\"zero-shot-classification\", device=0)\n",
        "classifier(\n",
        "    \"This is a course about the Transformers library\",\n",
        "    candidate_labels=[\"education\", \"politics\", \"business\"],\n",
        ")"
      ]
    },
    {
      "cell_type": "code",
      "execution_count": null,
      "metadata": {},
      "outputs": [],
      "source": [
        "classifier(\n",
        "    \"It just needs a lot of attention for maintenance. However, you should not expect much from the communists\",\n",
        "    candidate_labels=[\"positive\", \"negative\", \"neutral\", \"conflix\"],\n",
        ")"
      ]
    },
    {
      "cell_type": "code",
      "execution_count": null,
      "metadata": {
        "id": "yUSSQ2Fxm94B",
        "outputId": "7f7533c8-2d44-4db1-dfe9-bf434d018b49"
      },
      "outputs": [],
      "source": [
        "from transformers import pipeline\n",
        "# openai-community/gpt2\n",
        "generator = pipeline(\"text-generation\", device=0)\n",
        "generator(\"In this course, we will teach you how to\")"
      ]
    },
    {
      "cell_type": "code",
      "execution_count": null,
      "metadata": {
        "id": "R70Joy20m94B",
        "outputId": "7a1389e5-ab43-43db-9500-124cec092173"
      },
      "outputs": [],
      "source": [
        "from transformers import pipeline\n",
        "\n",
        "generator = pipeline(\"text-generation\", model=\"distilgpt2\", device=0)\n",
        "generator(\n",
        "    \"In this course, we will teach you how to\",\n",
        "    max_length=30,\n",
        "    num_return_sequences=2,\n",
        ")"
      ]
    },
    {
      "cell_type": "code",
      "execution_count": null,
      "metadata": {
        "id": "cxkTcfdMm94B",
        "outputId": "d1c4c134-9203-436b-aae5-4df4766f0082"
      },
      "outputs": [],
      "source": [
        "from transformers import pipeline\n",
        "# distilbert/distilroberta-base\n",
        "unmasker = pipeline(\"fill-mask\", device=0)\n",
        "unmasker(\"This course will teach you all about <mask> models.\", top_k=2)"
      ]
    },
    {
      "cell_type": "code",
      "execution_count": null,
      "metadata": {
        "id": "_t5N7RgUm94B",
        "outputId": "2f967a5d-da4e-48eb-8709-2aef5adf156a"
      },
      "outputs": [],
      "source": [
        "from transformers import pipeline\n",
        "# dbmdz/bert-large-cased-finetuned-conll03-english\n",
        "ner = pipeline(\"ner\", grouped_entities=True, device=0)\n",
        "ner(\"My name is Sylvain and I work at Hugging Face in Brooklyn.\")"
      ]
    },
    {
      "cell_type": "code",
      "execution_count": null,
      "metadata": {
        "id": "WsSVEt9sm94C",
        "outputId": "ce579400-8d66-4e93-fc7c-d8379afdf9c2"
      },
      "outputs": [],
      "source": [
        "from transformers import pipeline\n",
        "# distilbert/distilbert-base-cased-distilled-squad\n",
        "question_answerer = pipeline(\"question-answering\", device=0)\n",
        "question_answerer(\n",
        "    question=\"Where do I work?\",\n",
        "    context=\"My name is Sylvain and I work at Hugging Face in Brooklyn\",\n",
        ")"
      ]
    },
    {
      "cell_type": "code",
      "execution_count": null,
      "metadata": {
        "id": "qEwE7KVMm94C",
        "outputId": "84faca76-7818-4c80-b77c-0f36fcca385f"
      },
      "outputs": [],
      "source": [
        "from transformers import pipeline\n",
        "# google-t5/t5-small\n",
        "summarizer = pipeline(\"summarization\", device=0)\n",
        "summarizer(\n",
        "    \"\"\"\n",
        "    America has changed dramatically during recent years. Not only has the number of\n",
        "    graduates in traditional engineering disciplines such as mechanical, civil,\n",
        "    electrical, chemical, and aeronautical engineering declined, but in most of\n",
        "    the premier American universities engineering curricula now concentrate on\n",
        "    and encourage largely the study of engineering science. As a result, there\n",
        "    are declining offerings in engineering subjects dealing with infrastructure,\n",
        "    the environment, and related issues, and greater concentration on high\n",
        "    technology subjects, largely supporting increasingly complex scientific\n",
        "    developments. While the latter is important, it should not be at the expense\n",
        "    of more traditional engineering.\n",
        "\n",
        "    Rapidly developing economies such as China and India, as well as other\n",
        "    industrial countries in Europe and Asia, continue to encourage and advance\n",
        "    the teaching of engineering. Both China and India, respectively, graduate\n",
        "    six and eight times as many traditional engineers as does the United States.\n",
        "    Other industrial countries at minimum maintain their output, while America\n",
        "    suffers an increasingly serious decline in the number of engineering graduates\n",
        "    and a lack of well-educated engineers.\n",
        "\"\"\"\n",
        ")"
      ]
    },
    {
      "cell_type": "code",
      "execution_count": null,
      "metadata": {
        "id": "fTzbY4Vum94C",
        "outputId": "969d8b4b-d61a-4862-b9fc-5c574dfd4f50"
      },
      "outputs": [],
      "source": [
        "from transformers import pipeline\n",
        "\n",
        "translator = pipeline(\"translation\", model=\"Helsinki-NLP/opus-mt-fr-en\", device=0)\n",
        "translator(\"Ce cours est produit par Hugging Face.\")"
      ]
    }
  ],
  "metadata": {
    "colab": {
      "name": "Transformers, what can they do?",
      "provenance": []
    },
    "kernelspec": {
      "display_name": "Python 3",
      "language": "python",
      "name": "python3"
    },
    "language_info": {
      "codemirror_mode": {
        "name": "ipython",
        "version": 3
      },
      "file_extension": ".py",
      "mimetype": "text/x-python",
      "name": "python",
      "nbconvert_exporter": "python",
      "pygments_lexer": "ipython3",
      "version": "3.10.12"
    }
  },
  "nbformat": 4,
  "nbformat_minor": 0
}
