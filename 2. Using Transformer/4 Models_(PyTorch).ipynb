{
  "cells": [
    {
      "cell_type": "markdown",
      "metadata": {
        "id": "TVWNsK5WPYG8"
      },
      "source": [
        "# Models (PyTorch)"
      ]
    },
    {
      "cell_type": "markdown",
      "metadata": {
        "id": "M_B77HvqPYG-"
      },
      "source": [
        "Install the Transformers, Datasets, and Evaluate libraries to run this notebook."
      ]
    },
    {
      "cell_type": "code",
      "execution_count": null,
      "metadata": {
        "id": "nITBzxPQPYG-"
      },
      "outputs": [],
      "source": [
        "!pip install datasets evaluate transformers[sentencepiece]"
      ]
    },
    {
      "cell_type": "markdown",
      "metadata": {},
      "source": [
        "transformers.BertConfig\n",
        "\n",
        "transformers.BertModel"
      ]
    },
    {
      "cell_type": "code",
      "execution_count": null,
      "metadata": {
        "id": "gtmgezSJPYG_"
      },
      "outputs": [],
      "source": [
        "from transformers import BertConfig, BertModel\n",
        "\n",
        "# Building the config\n",
        "config = BertConfig()\n",
        "\n",
        "# Building the model from the config\n",
        "model = BertModel(config)"
      ]
    },
    {
      "cell_type": "code",
      "execution_count": null,
      "metadata": {
        "id": "16PDIzPXPYG_",
        "outputId": "a010ca9c-c6f1-4d4e-9a97-e6cdd6b7c798"
      },
      "outputs": [],
      "source": [
        "print(config)"
      ]
    },
    {
      "cell_type": "code",
      "execution_count": null,
      "metadata": {
        "id": "0XdS2Z0_PYHA"
      },
      "outputs": [],
      "source": [
        "from transformers import BertConfig, BertModel\n",
        "\n",
        "config = BertConfig()\n",
        "model = BertModel(config)\n",
        "\n",
        "# Model is randomly initialized!"
      ]
    },
    {
      "cell_type": "code",
      "execution_count": null,
      "metadata": {
        "id": "RtYIfkYDPYHA"
      },
      "outputs": [],
      "source": [
        "from transformers import BertModel\n",
        "\n",
        "model = BertModel.from_pretrained(\"bert-base-cased\")\n",
        "type(model)"
      ]
    },
    {
      "cell_type": "markdown",
      "metadata": {},
      "source": [
        "save_pretrained"
      ]
    },
    {
      "cell_type": "code",
      "execution_count": null,
      "metadata": {
        "id": "kmhpRk1gPYHB"
      },
      "outputs": [],
      "source": [
        "model.save_pretrained(\"../my-first-model\")"
      ]
    },
    {
      "cell_type": "code",
      "execution_count": null,
      "metadata": {
        "id": "HhMAcqxQPYHB"
      },
      "outputs": [],
      "source": [
        "sequences = [\"Hello!\", \"Cool.\", \"Nice!\"]"
      ]
    },
    {
      "cell_type": "code",
      "execution_count": null,
      "metadata": {
        "id": "ADFYxxqpPYHB"
      },
      "outputs": [],
      "source": [
        "encoded_sequences = [\n",
        "    [101, 7592, 999, 102],\n",
        "    [101, 4658, 1012, 102],\n",
        "    [101, 3835, 999, 102],\n",
        "]"
      ]
    },
    {
      "cell_type": "code",
      "execution_count": null,
      "metadata": {
        "id": "sqRphdZDPYHB"
      },
      "outputs": [],
      "source": [
        "import torch\n",
        "\n",
        "model_inputs = torch.tensor(encoded_sequences)"
      ]
    },
    {
      "cell_type": "code",
      "execution_count": null,
      "metadata": {
        "id": "ba_jIl2qPYHB"
      },
      "outputs": [],
      "source": [
        "output = model(model_inputs)\n",
        "print(output)"
      ]
    },
    {
      "cell_type": "markdown",
      "metadata": {},
      "source": [
        "transformers.AutoConfig API allows you to instantiate the configuration of a pretrained model from any checkpoint"
      ]
    },
    {
      "cell_type": "code",
      "execution_count": null,
      "metadata": {},
      "outputs": [],
      "source": [
        "from transformers import AutoConfig\n",
        "bert_config = AutoConfig.from_pretrained(\"bert-base-cased\")\n",
        "print(type(bert_config))\n",
        "\n",
        "gpt_config = AutoConfig.from_pretrained(\"gpt2\")\n",
        "print(type(gpt_config))\n",
        "\n",
        "bart_config = AutoConfig.from_pretrained(\"facebook/bart-base\")\n",
        "print(type(bart_config))"
      ]
    },
    {
      "cell_type": "markdown",
      "metadata": {},
      "source": [
        "transformers.BertConfig\n",
        "\n",
        "transformers.GPT2Config\n",
        "\n",
        "transformers.BartConfig"
      ]
    },
    {
      "cell_type": "code",
      "execution_count": null,
      "metadata": {},
      "outputs": [],
      "source": [
        "from transformers import BertConfig, GPT2Config, BartConfig\n",
        "\n",
        "bert_config = BertConfig.from_pretrained(\"bert-base-cased\")\n",
        "print(type(bert_config))\n",
        "\n",
        "gpt_config = GPT2Config.from_pretrained(\"gpt2\")\n",
        "print(type(gpt_config))\n",
        "\n",
        "bart_config = BartConfig.from_pretrained(\"facebook/bart-base\")\n",
        "print(type(bart_config))"
      ]
    },
    {
      "cell_type": "markdown",
      "metadata": {},
      "source": [
        "Using only 10 layer instead of 12"
      ]
    },
    {
      "cell_type": "code",
      "execution_count": null,
      "metadata": {},
      "outputs": [],
      "source": [
        "from transformers import BertConfig, BertModel\n",
        "\n",
        "bert_config = bert_config = BertConfig.from_pretrained(\"bert-base-cased\", num_hidden_layers = 10)\n",
        "print(bert_config)\n",
        "bert_model = BertModel(bert_config)"
      ]
    },
    {
      "cell_type": "markdown",
      "metadata": {},
      "source": [
        "Reloading a saved model"
      ]
    },
    {
      "cell_type": "code",
      "execution_count": null,
      "metadata": {},
      "outputs": [],
      "source": [
        "from transformers import BertModel\n",
        "bert_model = BertModel.from_pretrained(\"../my-first-model\")"
      ]
    },
    {
      "cell_type": "code",
      "execution_count": null,
      "metadata": {},
      "outputs": [],
      "source": [
        "bert_model(model_inputs)"
      ]
    }
  ],
  "metadata": {
    "colab": {
      "name": "Models (PyTorch)",
      "provenance": []
    },
    "kernelspec": {
      "display_name": "Python 3",
      "language": "python",
      "name": "python3"
    },
    "language_info": {
      "codemirror_mode": {
        "name": "ipython",
        "version": 3
      },
      "file_extension": ".py",
      "mimetype": "text/x-python",
      "name": "python",
      "nbconvert_exporter": "python",
      "pygments_lexer": "ipython3",
      "version": "3.10.12"
    }
  },
  "nbformat": 4,
  "nbformat_minor": 0
}
